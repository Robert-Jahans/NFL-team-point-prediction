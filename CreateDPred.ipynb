{
 "cells": [
  {
   "cell_type": "markdown",
   "id": "1be40757-56fa-4617-a526-4316e70f2161",
   "metadata": {
    "tags": []
   },
   "source": [
    "# Random Forest Regression of the defence of NFL teams through the 2018-21 seasons \n",
    "\n",
    "Import all necessary libraries, modules and the dataframe chosen"
   ]
  },
  {
   "cell_type": "code",
   "execution_count": 1,
   "id": "d44f659f-7f2b-4b90-9594-c963b29fb4ed",
   "metadata": {
    "collapsed": true,
    "jupyter": {
     "outputs_hidden": true
    },
    "tags": []
   },
   "outputs": [
    {
     "name": "stdout",
     "output_type": "stream",
     "text": [
      "                        Tm   G  Cmp  Att  Cmp%   Yds  TD  TD%  Int  PD  ...  \\\n",
      "0        Arizona Cardinals  17  367  561  65.4  3645  30  5.3   13  73  ...   \n",
      "1          Atlanta Falcons  17  391  577  67.8  3952  31  5.4   12  77  ...   \n",
      "2         Baltimore Ravens  17  397  621  63.9  4742  31  5.0    9  72  ...   \n",
      "3            Buffalo Bills  17  297  530  56.0  2771  12  2.3   19  80  ...   \n",
      "4        Carolina Panthers  17  337  515  65.4  3266  26  5.0    9  52  ...   \n",
      "..                     ...  ..  ...  ...   ...   ...  ..  ...  ...  ..  ...   \n",
      "91   San Francisco 49ers19  16  318  519  61.3  2707  23  4.4   12  75  ...   \n",
      "92      Seattle Seahawks19  16  383  598  64.0  4223  19  3.2   16  74  ...   \n",
      "93  Tampa Bay Buccaneers19  16  408  664  61.4  4322  30  4.5   12  96  ...   \n",
      "94      Tennessee Titans19  16  386  598  64.5  4080  25  4.2   14  72  ...   \n",
      "95   Washington Redskins19  16  371  540  68.7  3823  35  6.5   13  52  ...   \n",
      "\n",
      "    Hrry   Hrry%  QBKD   QBKD%  aSk  Prss   Prss%  MTkl   PA    PAA  \n",
      "0     61   9.80%    60  10.70%   41   162  25.90%   110  366  384.1  \n",
      "1     48   7.60%    39   6.80%   18   105  16.70%   120  459  384.1  \n",
      "2     58   8.60%    62  10.00%   34   154  23.00%   115  392  384.1  \n",
      "3     93  15.40%    51   9.60%   42   186  30.80%   118  289  384.1  \n",
      "4     62  10.90%    48   9.30%   39   149  26.10%   106  404  384.1  \n",
      "..   ...     ...   ...     ...  ...   ...     ...   ...  ...    ...  \n",
      "91    88  14.70%    36   6.90%   48   172  28.70%   107  310  384.1  \n",
      "92    60   9.20%    38   6.40%   28   126  19.30%   131  398  384.1  \n",
      "93    62   8.50%    66   9.90%   47   175  23.90%   118  449  384.1  \n",
      "94    72  10.70%    27   4.50%   43   142  21.10%   110  331  384.1  \n",
      "95    83  13.60%    45   8.30%   46   174  28.50%   116  435  384.1  \n",
      "\n",
      "[96 rows x 49 columns]\n"
     ]
    }
   ],
   "source": [
    "import pandas as pd\n",
    "import matplotlib.pyplot as plt\n",
    "import numpy as np\n",
    "from sklearn import linear_model\n",
    "from sklearn.linear_model import LinearRegression\n",
    "from sklearn.metrics import mean_squared_error, r2_score\n",
    "import statsmodels.api as sm\n",
    "from statsmodels.formula.api import ols\n",
    "from statsmodels.stats.anova import anova_lm\n",
    "from statsmodels.graphics.factorplots import interaction_plot\n",
    "from scipy import stats\n",
    "import matplotlib.colors as mcolors\n",
    "from scipy.stats import rankdata\n",
    "import seaborn as sns\n",
    "df = pd.read_csv (r'C:\\Users\\Rob\\Documents\\dstats.csv')\n",
    "print (df)"
   ]
  },
  {
   "cell_type": "markdown",
   "id": "778127c7-9dac-4b61-af35-557b998cfac2",
   "metadata": {},
   "source": [
    "Define the 3 most important variables from the Random Forest Regression that are not dicectly related and the y variable which is what was trained to predict. Make the 3 variables into an array."
   ]
  },
  {
   "cell_type": "code",
   "execution_count": 31,
   "id": "5d7497d1-ce08-4d73-9d5e-0d06c4c874c9",
   "metadata": {
    "collapsed": true,
    "jupyter": {
     "outputs_hidden": true
    },
    "tags": []
   },
   "outputs": [
    {
     "name": "stdout",
     "output_type": "stream",
     "text": [
      "[[   6.1   93.5 1952. ]\n",
      " [   6.8   97.4 2242. ]\n",
      " [   7.6   99.4 1436. ]\n",
      " [   3.8   65.3 1866. ]\n",
      " [   6.1   95.  1935. ]\n",
      " [   6.7  103.3 2127. ]\n",
      " [   6.2   93.1 1742. ]\n",
      " [   5.5   89.4 1857. ]\n",
      " [   5.1   76.6 1918. ]\n",
      " [   5.9   85.  1892. ]\n",
      " [   7.5  101.  2296. ]\n",
      " [   5.5   86.9 1855. ]\n",
      " [   6.7   94.1 2418. ]\n",
      " [   6.    90.5 1854. ]\n",
      " [   7.   100.8 2127. ]\n",
      " [   6.5   92.  1999. ]\n",
      " [   6.4   96.4 1943. ]\n",
      " [   6.4   93.  2361. ]\n",
      " [   5.3   83.8 1754. ]\n",
      " [   5.6   85.4 1867. ]\n",
      " [   6.1   91.4 2222. ]\n",
      " [   4.5   73.3 2103. ]\n",
      " [   5.3   81.7 1589. ]\n",
      " [   5.7   89.  2193. ]\n",
      " [   7.5  103.2 2351. ]\n",
      " [   6.1   95.4 1834. ]\n",
      " [   5.7   88.7 2483. ]\n",
      " [   6.1   97.  1760. ]\n",
      " [   6.5   93.6 1932. ]\n",
      " [   5.3   85.6 1573. ]\n",
      " [   5.9   86.4 1438. ]\n",
      " [   7.1  100.8 1775. ]\n",
      " [   5.9   91.5 2008. ]\n",
      " [   7.4  101.7 1677. ]\n",
      " [   5.6   87.2 1740. ]\n",
      " [   5.7   86.9 1914. ]\n",
      " [   6.6   98.4 1936. ]\n",
      " [   6.6   94.9 1814. ]\n",
      " [   7.2   96.1 2368. ]\n",
      " [   6.6   94.8 1773. ]\n",
      " [   7.1  100.4 2541. ]\n",
      " [   6.2   92.1 2080. ]\n",
      " [   8.6  112.4 2158. ]\n",
      " [   6.1   91.1 1805. ]\n",
      " [   7.9  109.6 2564. ]\n",
      " [   6.1   90.5 1448. ]\n",
      " [   7.9  105.6 2452. ]\n",
      " [   6.2   89.4 1954. ]\n",
      " [   7.2   95.3 2013. ]\n",
      " [   6.3   91.4 1917. ]\n",
      " [   4.6   80.4 1460. ]\n",
      " [   6.2   87.  1862. ]\n",
      " [   7.2   97.  2151. ]\n",
      " [   6.2   89.3 2103. ]\n",
      " [   5.4   83.3 1502. ]\n",
      " [   6.1   93.2 1782. ]\n",
      " [   7.3  103.2 1792. ]\n",
      " [   6.9  102.4 2012. ]\n",
      " [   4.7   76.7 1783. ]\n",
      " [   5.8   88.6 1703. ]\n",
      " [   6.1   90.2 1529. ]\n",
      " [   5.8   94.3 1289. ]\n",
      " [   6.9   97.5 1933. ]\n",
      " [   4.8   81.4 1805. ]\n",
      " [   7.7  109.9 1922. ]\n",
      " [   7.    96.9 1775. ]\n",
      " [   5.2   77.5 1494. ]\n",
      " [   4.7   78.8 1649. ]\n",
      " [   5.8   88.  2296. ]\n",
      " [   5.7   85.2 1632. ]\n",
      " [   7.4   95.4 2382. ]\n",
      " [   6.1   89.  2315. ]\n",
      " [   6.1   91.9 1656. ]\n",
      " [   6.1   89.8 1783. ]\n",
      " [   7.7   99.6 1855. ]\n",
      " [   5.7   81.1 1921. ]\n",
      " [   7.1   97.6 1937. ]\n",
      " [   6.4   98.  1567. ]\n",
      " [   6.7   93.9 2229. ]\n",
      " [   5.2   80.8 2051. ]\n",
      " [   6.3   96.7 1805. ]\n",
      " [   5.7   86.8 1809. ]\n",
      " [   7.7  101.9 2166. ]\n",
      " [   5.3   86.1 1728. ]\n",
      " [   3.5   62.8 1528. ]\n",
      " [   5.8   88.3 1461. ]\n",
      " [   7.4  101.4 1812. ]\n",
      " [   6.    88.  1391. ]\n",
      " [   7.8  103.8 1570. ]\n",
      " [   6.4   90.8 1442. ]\n",
      " [   4.7   79.7 1753. ]\n",
      " [   4.6   83.  1802. ]\n",
      " [   6.2   85.6 1883. ]\n",
      " [   6.2   90.  1181. ]\n",
      " [   6.2   90.4 1672. ]\n",
      " [   6.7  102.5 2339. ]]\n"
     ]
    }
   ],
   "source": [
    "x = df['ANY/A'], df['Rate'], df['Ydsr']\n",
    "y = df['PA']\n",
    "x, y = np.array(x), np.array(y)\n",
    "\n",
    "x = np.vstack((df['ANY/A'], df['Rate'],df['Ydsr'])).T\n",
    "print(x)"
   ]
  },
  {
   "cell_type": "markdown",
   "id": "99afcf59-c10d-45fb-84be-f851548bd36b",
   "metadata": {},
   "source": [
    "### Linear Regression\n",
    "\n",
    "Conduct a Linear Regression on the variables deifned above"
   ]
  },
  {
   "cell_type": "code",
   "execution_count": 12,
   "id": "999bf323-f76d-4a68-8ca3-e45c682fa616",
   "metadata": {
    "tags": []
   },
   "outputs": [
    {
     "name": "stdout",
     "output_type": "stream",
     "text": [
      "coefficient of determination: 0.7507669629553981\n",
      "intercept: -72.00298605592161\n",
      "coefficients: [29.23877774  1.76379634  0.05969919]\n"
     ]
    }
   ],
   "source": [
    "model = LinearRegression().fit(x, y)\n",
    "\n",
    "r_sq = model.score(x, y)\n",
    "print(f\"coefficient of determination: {r_sq}\")\n",
    "\n",
    "print(f\"intercept: {model.intercept_}\")\n",
    "\n",
    "print(f\"coefficients: {model.coef_}\")"
   ]
  },
  {
   "cell_type": "markdown",
   "id": "b32b2c1c-fde3-402f-8bad-1e624f2b6582",
   "metadata": {},
   "source": [
    "Prepare the model to predict the points allowed for the current season. "
   ]
  },
  {
   "cell_type": "code",
   "execution_count": 33,
   "id": "3b71f379-3bb5-45f7-a0e9-71aefba423e5",
   "metadata": {
    "collapsed": true,
    "jupyter": {
     "outputs_hidden": true
    },
    "tags": []
   },
   "outputs": [
    {
     "name": "stdout",
     "output_type": "stream",
     "text": [
      "predicted response:\n",
      "[387.80133695 432.46005256 411.26111922 265.67896104 389.4321452\n",
      " 433.07716616 377.48286601 357.35508215 326.72462864 363.37936107\n",
      " 462.50062011 352.82619293 434.22270455 373.73554942 437.43930864\n",
      " 399.65701554 401.15068692 420.10804135 335.48105042 353.8207665\n",
      " 400.2161463  314.40518448 321.92671155 382.55624745 469.66442757\n",
      " 384.10804541 399.33987403 382.51237939 398.47924385 327.8503302\n",
      " 338.74524308 419.34907107 381.76914344 423.85760035 349.41380261\n",
      " 362.19620077 410.1081408  396.65155229 449.38472652 394.02750581\n",
      " 464.37313309 395.89739634 506.53206545 374.79244462 505.36416297\n",
      " 352.42155552 491.6226682  383.61304813 426.78047654 387.8556485\n",
      " 291.46543622 373.88761133 438.01741871 392.33184801 322.47883382\n",
      " 377.12333552 430.44482408 430.472098   307.14610635 355.52200295\n",
      " 356.72805112 340.86017685 417.11325985 319.67320911 461.71866549\n",
      " 409.54638759 305.923466   302.85038702 389.8653456  342.36257505\n",
      " 454.83361332 401.53505989 367.30830218 371.18612718 439.55171742\n",
      " 352.38407637 423.37619179 381.52586512 422.58679812 344.99644347\n",
      " 390.51745965 355.75140605 462.17489749 337.98560302 232.31951022\n",
      " 340.54565975 431.38785228 341.685333   432.86927028 361.36413259\n",
      " 310.64651961 316.46843012 372.67197948 338.52385104 368.54167252\n",
      " 444.32235765]\n",
      "predicted response:\n",
      "[387.80133695 432.46005256 411.26111922 265.67896104 389.4321452\n",
      " 433.07716616 377.48286601 357.35508215 326.72462864 363.37936107\n",
      " 462.50062011 352.82619293 434.22270455 373.73554942 437.43930864\n",
      " 399.65701554 401.15068692 420.10804135 335.48105042 353.8207665\n",
      " 400.2161463  314.40518448 321.92671155 382.55624745 469.66442757\n",
      " 384.10804541 399.33987403 382.51237939 398.47924385 327.8503302\n",
      " 338.74524308 419.34907107 381.76914344 423.85760035 349.41380261\n",
      " 362.19620077 410.1081408  396.65155229 449.38472652 394.02750581\n",
      " 464.37313309 395.89739634 506.53206545 374.79244462 505.36416297\n",
      " 352.42155552 491.6226682  383.61304813 426.78047654 387.8556485\n",
      " 291.46543622 373.88761133 438.01741871 392.33184801 322.47883382\n",
      " 377.12333552 430.44482408 430.472098   307.14610635 355.52200295\n",
      " 356.72805112 340.86017685 417.11325985 319.67320911 461.71866549\n",
      " 409.54638759 305.923466   302.85038702 389.8653456  342.36257505\n",
      " 454.83361332 401.53505989 367.30830218 371.18612718 439.55171742\n",
      " 352.38407637 423.37619179 381.52586512 422.58679812 344.99644347\n",
      " 390.51745965 355.75140605 462.17489749 337.98560302 232.31951022\n",
      " 340.54565975 431.38785228 341.685333   432.86927028 361.36413259\n",
      " 310.64651961 316.46843012 372.67197948 338.52385104 368.54167252\n",
      " 444.32235765]\n"
     ]
    }
   ],
   "source": [
    "y_pred = model.predict(x)\n",
    "print(f\"predicted response:\\n{y_pred}\")\n",
    "\n",
    "y_pred = model.intercept_ + np.sum(model.coef_ * x, axis=1)\n",
    "print(f\"predicted response:\\n{y_pred}\")"
   ]
  },
  {
   "cell_type": "markdown",
   "id": "c4f7586e-2d16-409c-9b54-01dd32f5b3c3",
   "metadata": {
    "jupyter": {
     "outputs_hidden": true
    },
    "tags": []
   },
   "source": [
    "### Current season data\n",
    "\n",
    "Input all the data for the variables chosen for the current season. This data was taken from week 7 which is problematic as some teams had their BYE's. therefore the data had to be manually taken from ProFootballReference. Data that is already averaged or not cumulative such as Qb Rate and ANY/A did not suffer this issue, but Ydsr did. as a result the projected number was used by dividing the current number by games played and then multiplied by 17 (the number of games in the regular season)."
   ]
  },
  {
   "cell_type": "code",
   "execution_count": 20,
   "id": "b00c6c59-d264-4cbf-8e3a-f21c5baab9eb",
   "metadata": {
    "tags": []
   },
   "outputs": [
    {
     "name": "stdout",
     "output_type": "stream",
     "text": [
      "([6.9, 97.2, 1719], [7.2, 100.2, 1705], [5.9, 90.1, 1787], [3.9, 71.2, 1294], [6.1, 87.7, 2054], [4.9, 75.5, 2545], [5.2, 75.2, 2023], [7, 92.7, 2304], [4.1, 77.7, 2042], [4, 74.9, 2238], [7.8, 102.4, 2372], [6.1, 95, 2372], [5.9, 78.8, 2799], [6.1, 94.9, 2098], [5.8, 84.1, 1874], [6.9, 103.8, 1564], [7.5, 104.7, 1768], [5.9, 93, 2338], [5.6, 86.5, 1517], [6.9, 98.9, 1755], [6.8, 93.7, 1912], [5.3, 81.5, 2324], [7.1, 98.4, 2093], [6.5, 85.5, 2455], [4.9, 77.3, 1789], [3.5, 66, 1867], [6.6, 87.6, 2020], [5.3, 86.6, 1547], [6.8, 95.9, 2545], [5.1, 86.4, 2010], [6.9, 100.4, 1646], [7, 99.1, 2010])\n"
     ]
    }
   ],
   "source": [
    "x_new = [6.9, 97.2, 1719],[7.2, 100.2, 1705],[5.9, 90.1, 1787],[3.9, 71.2, 1294],[6.1, 87.7, 2054],[4.9, 75.5, 2545],[5.2, 75.2, 2023],[7, 92.7, 2304],[4.1, 77.7, 2042],[4, 74.9, 2238],[7.8, 102.4, 2372],[6.1, 95, 2372],[5.9, 78.8, 2799],[6.1, 94.9, 2098],[5.8, 84.1, 1874],[6.9, 103.8, 1564],[7.5, 104.7, 1768],[5.9, 93, 2338],[5.6, 86.5, 1517],[6.9, 98.9, 1755],[6.8, 93.7, 1912],[5.3, 81.5, 2324],[7.1, 98.4, 2093],[6.5, 85.5, 2455],[4.9, 77.3, 1789],[3.5, 66, 1867],[6.6, 87.6, 2020],[5.3, 86.6, 1547],[6.8, 95.9, 2545],[5.1, 86.4, 2010],[6.9, 100.4, 1646],[7, 99.1, 2010]\n",
    "print(x_new)"
   ]
  },
  {
   "cell_type": "markdown",
   "id": "7afb553e-d4ed-4631-b2d2-c2711b3f6083",
   "metadata": {},
   "source": [
    "### Model the current season data\n",
    "\n",
    "Now use the data for the current season for the model to predict the amount of points a team will allow over the season."
   ]
  },
  {
   "cell_type": "code",
   "execution_count": 34,
   "id": "adbe8bbb-3289-441b-a774-9f9c23c5f3af",
   "metadata": {
    "tags": []
   },
   "outputs": [
    {
     "data": {
      "text/plain": [
       "array([403.80849401, 417.03572765, 366.10630729, 244.86129976,\n",
       "       383.66063572, 356.36809008, 333.44760663, 433.71931519,\n",
       "       306.82872659, 310.66726058, 478.27870685, 415.52069181,\n",
       "       406.59099032, 398.98673375, 357.79348115, 406.19617516,\n",
       "       437.50549354, 404.11557108, 334.86622551, 408.95611866,\n",
       "       406.23327298, 365.45285791, 434.10030271, 415.4151706 ,\n",
       "       314.41033485, 258.20168434, 396.07387245, 328.06194756,\n",
       "       447.90321302, 349.50215832, 405.09460131, 427.45604949])"
      ]
     },
     "execution_count": 34,
     "metadata": {},
     "output_type": "execute_result"
    }
   ],
   "source": [
    "y_new = model.predict(x_new)\n",
    "y_new"
   ]
  },
  {
   "cell_type": "markdown",
   "id": "e6c6ae5c-7bcf-4aad-b06c-97c0b604e9a8",
   "metadata": {},
   "source": [
    "Now define the predictions and display the dtype and length of the list which must be 32 (the number of teams in the NFL)"
   ]
  },
  {
   "cell_type": "code",
   "execution_count": 35,
   "id": "4667508d-771e-4e31-9caa-0d8ae43463c1",
   "metadata": {
    "tags": []
   },
   "outputs": [
    {
     "name": "stdout",
     "output_type": "stream",
     "text": [
      "<class 'list'>\n",
      "[403.80849400500233, 417.03572765423337, 366.1063072939253, 244.86129975785502, 383.66063572031277, 356.3680900799129, 333.447606633793, 433.71931519290433, 306.82872659012247, 310.6672605762693, 478.2787068459364, 415.5206918052479, 406.5909903224467, 398.98673375048844, 357.7934811542876, 406.1961751617915, 437.50549353751956, 404.11557108196075, 334.86622550923886, 408.9561186620054, 406.2332729826779, 365.4528579054986, 434.10030270854656, 415.4151705987924, 314.4103348462005, 258.20168434438426, 396.07387245301845, 328.0619475596736, 447.90321302431096, 349.5021583247003, 405.09460131082767, 427.45604948942344]\n",
      "32\n"
     ]
    }
   ],
   "source": [
    "ylist = list(y_new)\n",
    "print(type(ylist))\n",
    "print(ylist)\n",
    "print(len(ylist))"
   ]
  },
  {
   "cell_type": "markdown",
   "id": "d4f4549b-4ba6-40f4-a082-9636e08bcb75",
   "metadata": {},
   "source": [
    "Now create a new list of all the teams in alphabetical order "
   ]
  },
  {
   "cell_type": "code",
   "execution_count": 36,
   "id": "df50c4e3-bfa7-4894-8d59-4d76e75ac8ef",
   "metadata": {},
   "outputs": [
    {
     "name": "stdout",
     "output_type": "stream",
     "text": [
      "32\n"
     ]
    }
   ],
   "source": [
    "Teams = ('Arizona Cardinals','Atlanta Falcons','Baltimore Ravens','Buffalo Bills','Carolina Panthers','Chicago Bears','Cincinnati Bengals','Cleveland Browns','Dallas Cowboys','Denver Broncos','Detroit Lions','Green Bay Packers','Houston Texans','Indianapolis Colts','Jacksonville Jaguars','Kansas City Chiefs','Las Vegas Raiders','Los Angeles Chargers','Los Angeles Rams','Miami Dolphins','Minnesota Vikings','New England Patriots','New Orleans Saints','New York Giants','New York Jets','Philadelphia Eagles','Pittsburgh Steelers','San Francisco 49ers','Seattle Seahawks','Tampa Bay Buccaneers','Tennessee Titans','Washington Commanders')\n",
    "print(len(Teams))"
   ]
  },
  {
   "cell_type": "markdown",
   "id": "21a73814-8f03-45ee-a4c5-d19788517f32",
   "metadata": {},
   "source": [
    "### New dataframe\n",
    "\n",
    "Create a new dataframe consisting of the teams and their corresponding points predicted by the model for the current season."
   ]
  },
  {
   "cell_type": "code",
   "execution_count": 38,
   "id": "5c52dfed-6df3-4838-98a3-220902241aea",
   "metadata": {},
   "outputs": [
    {
     "name": "stdout",
     "output_type": "stream",
     "text": [
      "          Pred                  Teams\n",
      "0   403.808494      Arizona Cardinals\n",
      "1   417.035728        Atlanta Falcons\n",
      "2   366.106307       Baltimore Ravens\n",
      "3   244.861300          Buffalo Bills\n",
      "4   383.660636      Carolina Panthers\n",
      "5   356.368090          Chicago Bears\n",
      "6   333.447607     Cincinnati Bengals\n",
      "7   433.719315       Cleveland Browns\n",
      "8   306.828727         Dallas Cowboys\n",
      "9   310.667261         Denver Broncos\n",
      "10  478.278707          Detroit Lions\n",
      "11  415.520692      Green Bay Packers\n",
      "12  406.590990         Houston Texans\n",
      "13  398.986734     Indianapolis Colts\n",
      "14  357.793481   Jacksonville Jaguars\n",
      "15  406.196175     Kansas City Chiefs\n",
      "16  437.505494      Las Vegas Raiders\n",
      "17  404.115571   Los Angeles Chargers\n",
      "18  334.866226       Los Angeles Rams\n",
      "19  408.956119         Miami Dolphins\n",
      "20  406.233273      Minnesota Vikings\n",
      "21  365.452858   New England Patriots\n",
      "22  434.100303     New Orleans Saints\n",
      "23  415.415171        New York Giants\n",
      "24  314.410335          New York Jets\n",
      "25  258.201684    Philadelphia Eagles\n",
      "26  396.073872    Pittsburgh Steelers\n",
      "27  328.061948    San Francisco 49ers\n",
      "28  447.903213       Seattle Seahawks\n",
      "29  349.502158   Tampa Bay Buccaneers\n",
      "30  405.094601       Tennessee Titans\n",
      "31  427.456049  Washington Commanders\n"
     ]
    }
   ],
   "source": [
    "data = ylist\n",
    "  \n",
    "df1 = pd.DataFrame(data, columns=['Pred'])\n",
    "\n",
    "df1['Teams'] = Teams\n",
    "print(df1)"
   ]
  },
  {
   "cell_type": "markdown",
   "id": "92a60eb7-e668-4342-9361-b487dcacd385",
   "metadata": {},
   "source": [
    "### Save\n",
    "\n",
    "Save the data frame"
   ]
  },
  {
   "cell_type": "code",
   "execution_count": 30,
   "id": "5c6f3baf-c1fe-4fe8-bb30-a2485041b419",
   "metadata": {
    "tags": []
   },
   "outputs": [],
   "source": [
    "df1.to_csv(r'C:\\Users\\Rob\\Documents\\DPrediction.csv', index = False)"
   ]
  },
  {
   "cell_type": "code",
   "execution_count": null,
   "id": "4d1d39b4-c348-4ac7-915e-eb2241f9f90b",
   "metadata": {},
   "outputs": [],
   "source": []
  }
 ],
 "metadata": {
  "kernelspec": {
   "display_name": "Python 3 (ipykernel)",
   "language": "python",
   "name": "python3"
  },
  "language_info": {
   "codemirror_mode": {
    "name": "ipython",
    "version": 3
   },
   "file_extension": ".py",
   "mimetype": "text/x-python",
   "name": "python",
   "nbconvert_exporter": "python",
   "pygments_lexer": "ipython3",
   "version": "3.9.7"
  }
 },
 "nbformat": 4,
 "nbformat_minor": 5
}
